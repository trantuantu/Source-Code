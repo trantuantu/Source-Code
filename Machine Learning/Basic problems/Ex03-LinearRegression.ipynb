{
 "cells": [
  {
   "cell_type": "markdown",
   "metadata": {},
   "source": [
    "# BTTH03: Linear Regression\n",
    "\n",
    "Trần Tuấn Tú\n",
    "MSSV: 1312681\n",
    "\n",
    "---\n",
    "\n"
   ]
  },
  {
   "cell_type": "markdown",
   "metadata": {},
   "source": [
    "## 1. Cách làm bài và nộp bài\n",
    "\n",
    "**Làm bài**\n",
    "\n",
    "Bạn sẽ làm trực tiếp trên file notebook này; trong file, mình đã để từ `TODO` để cho biết những chỗ mà bạn cần phải làm (trong đó, `TODO` đầu tiên là bạn phải ghi họ tên và MSSV vào phần đầu của file). Trong khi làm bài, thường xuyên `Ctrl + S` để lưu lại bài làm của bạn, tránh mất mát thông tin.\n",
    "\n",
    "*Lưu ý: tuyệt đối không gian lận. Nếu vi phạm thì bạn sẽ bị 0 điểm cho cả phần thực hành môn học. Nên nhớ mục tiêu chính ở đây là học kiến thức.*\n",
    "\n",
    "**Nộp bài**\n",
    "\n",
    "Khi chấm bài, đầu tiên mình sẽ chọn `Cell` - `Run All` để chạy tất cả các cell trong notebook của bạn; do đó, trước khi nộp bài, bạn nên chạy thử `Cell` - `Run All` để đảm bảo mọi chuyện diễn ra đúng như mong đợi.\n",
    "\n",
    "Sau đó, trong thư mục `MSSV` (vd, nếu bạn có MSSV là 1234567 thì bạn đặt tên thư mục là `1234567`) bạn đặt file `Ex03-LinearRegression.ipynb`; rồi nén thư mục `MSSV` này lại và nộp ở link trên moodle."
   ]
  },
  {
   "cell_type": "markdown",
   "metadata": {},
   "source": [
    "## 2. Import"
   ]
  },
  {
   "cell_type": "code",
   "execution_count": 50,
   "metadata": {
    "collapsed": false
   },
   "outputs": [],
   "source": [
    "%matplotlib inline\n",
    "import numpy as np\n",
    "import matplotlib.pyplot as plt\n",
    "# You can also import other things ..."
   ]
  },
  {
   "cell_type": "markdown",
   "metadata": {},
   "source": [
    "## 3. Hàm phát sinh dữ liệu"
   ]
  },
  {
   "cell_type": "markdown",
   "metadata": {},
   "source": [
    "Trong bài tập này, bạn sẽ thử nghiệm Linear Regression trên bộ dữ liệu tự tạo với không gian đầu vào $\\mathcal{X}$ là không gian một chiều (để có thể trực quan hóa được). Cách tạo bộ dữ liệu như sau:\n",
    "\n",
    "- Hàm đích (target function) của mình là: $f(x) = x$.\n",
    "- Mỗi input $x$ được phát sinh bằng cách lấy ngẫu nhiên một giá trị trong $[-1, 1]$ theo phân bố đều. Output $y$ tương ứng sẽ được phát sinh như sau: $y = f(x) + noise$ với $noise$ được phát sinh từ phân bố Gauss với mean bằng 0 và variance bằng $0.5^2$."
   ]
  },
  {
   "cell_type": "code",
   "execution_count": 51,
   "metadata": {
    "collapsed": false
   },
   "outputs": [],
   "source": [
    "def generate_data(N):\n",
    "    \"\"\"\n",
    "    Generates data.\n",
    "    \n",
    "    Parameters:\n",
    "    -----------\n",
    "    N : int\n",
    "        The number of data points.\n",
    "    \n",
    "    Returns:\n",
    "    --------\n",
    "    (X, Y) : tuple\n",
    "        X : numpy array, shape (N, 2)\n",
    "            The matrix of input vectors (each row corresponds to an input vector); the first column of \n",
    "            this matrix is all ones (corresponding to x_0).\n",
    "        Y : numpy array, shape (N, 1)\n",
    "            The vector of outputs.\n",
    "    \"\"\"\n",
    "    X = np.ones((N, 2))\n",
    "    for i in range(N):\n",
    "         X[i, 1] = np.random.uniform(-1,1)\n",
    "    Y = X[:, 1:2]\n",
    "    Y = Y + np.array([np.random.normal(0,0.5,N)]).T\n",
    "    return (X, Y)\n",
    "    # TODO"
   ]
  },
  {
   "cell_type": "code",
   "execution_count": null,
   "metadata": {
    "collapsed": true
   },
   "outputs": [],
   "source": []
  },
  {
   "cell_type": "markdown",
   "metadata": {},
   "source": [
    "## 4. Hàm huấn luyện Linear Regression"
   ]
  },
  {
   "cell_type": "code",
   "execution_count": 52,
   "metadata": {
    "collapsed": false
   },
   "outputs": [],
   "source": [
    "def train_linear_regression(X, Y):\n",
    "    \"\"\"\n",
    "    Trains Linear Regression on the dataset (X, Y).\n",
    "    \n",
    "    Parameters:\n",
    "    -----------\n",
    "    X : numpy array, shape (N, d + 1)\n",
    "        The matrix of input vectors (each row corresponds to an input vector); the first column of \n",
    "        this matrix is all ones (corresponding to x_0).\n",
    "    Y : numpy array, shape (N, 1)\n",
    "        The vector of outputs.\n",
    "    \n",
    "    Returns:\n",
    "    --------\n",
    "    W : numpy array, shape (d + 1, 1)\n",
    "        The vector of parameters of Linear Regression after training.\n",
    "    \"\"\"\n",
    "    #Khoi tao ban dau, mang cac tham so phi\n",
    "    W = np.ones((X.shape[1], 1))\n",
    "    #Random mang phi\n",
    "    for i in range(X.shape[1]):\n",
    "        #if (i > 0):\n",
    "        W[i][0] = np.random.uniform(-2, 2)\n",
    "    #Gradient Descent N lan\n",
    "    #temp = X[:, 1:X.shape[1]]\n",
    "    for i in range(100): #Cho hoi quy 100 lan  \n",
    "        #Tinh hypothesis\n",
    "        hypo = np.dot(X,W)\n",
    "        for j in range(X.shape[1]):\n",
    "            W[j][0] = W[j][0] - np.dot(X[:, j:j+1].T, (hypo - Y)) / X.shape[0]\n",
    "    return W\n",
    "    # TODO"
   ]
  },
  {
   "cell_type": "markdown",
   "metadata": {},
   "source": [
    "## 5. Hàm tính độ lỗi của Linear Regression"
   ]
  },
  {
   "cell_type": "code",
   "execution_count": 53,
   "metadata": {
    "collapsed": true
   },
   "outputs": [],
   "source": [
    "def compute_err(W, X, Y):\n",
    "    \"\"\"\n",
    "    Computes the mean squared error of W on the dataset (X, Y).\n",
    "    \n",
    "    Parameters:\n",
    "    -----------\n",
    "    W : numpy array, shape (d + 1, 1)\n",
    "        The vector of parameters of Linear Regression.\n",
    "    X : numpy array, shape (N, d + 1)\n",
    "        The matrix of input vectors (each row corresponds to an input vector); the first column of \n",
    "        this matrix is all ones (corresponding to x_0).\n",
    "    Y : numpy array, shape (N, 1)\n",
    "        The vector of outputs.\n",
    "    \n",
    "    Returns:\n",
    "    --------\n",
    "    mse : float\n",
    "        Mean squared error between predicted outputs and correct outputs.\n",
    "    \"\"\"\n",
    "    hypo = np.dot(X, W)\n",
    "    res = np.square(hypo - Y)\n",
    "    mse = (np.sum(res, axis=0))/(X.shape[0])\n",
    "    return mse\n",
    "    # TODO"
   ]
  },
  {
   "cell_type": "code",
   "execution_count": null,
   "metadata": {
    "collapsed": true
   },
   "outputs": [],
   "source": []
  },
  {
   "cell_type": "markdown",
   "metadata": {},
   "source": [
    "## 6. Hàm main\n",
    "\n",
    "Hàm `main` có hai tham số đầu vào:\n",
    "\n",
    "- `Ns` (list): gồm các kích thước của tập huấn luyện mà mình sẽ thí nghiệm.\n",
    "- `num_runs` (int): số lần chạy với mỗi kích thước của tập huấn luyện.\n",
    "\n",
    "Trong hàm `main`, với mỗi kích thước `N` của tập huấn luyện, ta sẽ chạy `num_runs` lần, trong đó ở mỗi lần chạy:\n",
    "\n",
    "- Phát sinh ra tập huấn luyện gồm `N` điểm dữ liệu.\n",
    "- Huấn luyện Linear Regression để tìm ra bộ tham số `W`.\n",
    "- Tính độ lỗi trên tập huấn luyện `E_in`.\n",
    "- Phát sinh ra tập kiểm tra (test set) gồm 1000 điểm dữ liệu.\n",
    "- Tính độ lỗi trên tập kiểm tra `E_out`.\n",
    "\n",
    "Ta sẽ tính giá trị trung bình của `E_in` và `E_out` sau `num_runs` lần chạy.\n",
    "\n",
    "Trong hàm `main`, bạn sẽ bổ sung các phần sau:\n",
    "\n",
    "- Nếu `len(Ns) = 1` và `num_runs = 1` thì bạn sẽ vẽ ra đồ thị có trục hoành là $x$ và trục tung là $y$; trên đồ thị này, bạn sẽ vẽ ra đường thẳng $y = x$ ứng với hàm đích, các điểm dữ liệu của tập huấn luyện, và đường thẳng học được của Linear Regression.\n",
    "- Nếu `len(Ns) > 1` thì bạn sẽ vẽ ra đồ thị có trục hoành là kích thước `N` của tập huấn luyện và trục tung là độ lỗi; trên đồ thị này, bạn sẽ vẽ ra hai đường ứng với `E_in` và `E_out` (các giá trị trung bình sau `num_runs` lần chạy) để cho thấy sự thay đổi của `E_in` và `E_out` khi `N` thay đổi."
   ]
  },
  {
   "cell_type": "code",
   "execution_count": 54,
   "metadata": {
    "collapsed": false
   },
   "outputs": [],
   "source": [
    "def main(Ns, num_runs):\n",
    "    \"\"\"\n",
    "    Parameters:\n",
    "    -----------\n",
    "    Ns : list\n",
    "        List of training set's sizes.\n",
    "    num_runs: int\n",
    "        The number of runs.\n",
    "    \"\"\"\n",
    "    avg_E_in_list = [] # The list of average E_in's (each average E_in corresponds to a training set's size)\n",
    "    avg_E_out_list = [] # The list of average E_out's\n",
    "    \n",
    "    for N in Ns:\n",
    "        avg_E_in = 0.0\n",
    "        avg_E_out = 0.0\n",
    "        for r in range(num_runs):\n",
    "            # Generate a training set\n",
    "            X, Y = generate_data(N)\n",
    "            \n",
    "            # Train Linear Regression\n",
    "            W = train_linear_regression(X, Y)\n",
    "            \n",
    "            # Compute E_in and update average E_in\n",
    "            E_in = compute_err(W, X, Y)\n",
    "            avg_E_in += E_in / num_runs\n",
    "            \n",
    "            # Visualize the target line, the training data points, and the line of Linear Regression\n",
    "            # TODO: if len(Ns) == 1 and num_runs == 1: ...\n",
    "            if (len(Ns) == 1 and num_runs == 1):\n",
    "                plt.plot([-2, 2], [-2,2], label = 'y = x')\n",
    "                plt.plot(X.T[1], Y.T[0], 'ro')\n",
    "                plt.plot([-2,2], np.dot([[1,-2],[1,2]],W).T[0], label = 'Linear Regression')\n",
    "                plt.legend()\n",
    "                plt.show()\n",
    "            \n",
    "            # Generate a test set\n",
    "            X_test, Y_test = generate_data(1000)\n",
    "            \n",
    "            # Compute E_out and update average E_out\n",
    "            E_out = compute_err(W, X_test, Y_test)\n",
    "            avg_E_out += E_out / num_runs\n",
    "            \n",
    "        avg_E_in_list.append(avg_E_in)\n",
    "        avg_E_out_list.append(avg_E_out)\n",
    "    \n",
    "    # Visualize how avg_E_in and avg_E_out vary when N varies\n",
    "    # TODO: if len(Ns) > 1: ...\n",
    "    if len(Ns) > 1:\n",
    "        plt.plot(Ns, avg_E_in_list, label = 'E_in')\n",
    "        plt.plot(Ns, avg_E_out_list, label = 'E_out', color = 'g')\n",
    "        plt.legend()\n",
    "        plt.show()\n",
    "    "
   ]
  },
  {
   "cell_type": "markdown",
   "metadata": {},
   "source": [
    "## 7. Thí nghiệm"
   ]
  },
  {
   "cell_type": "markdown",
   "metadata": {},
   "source": [
    "Đầu tiên, để kiểm tra một cách trực quan đường hồi qui học được của Linear Regression, bạn hãy gọi hàm `main` ở trên với `Ns = [2]` và `num_runs = 1`."
   ]
  },
  {
   "cell_type": "code",
   "execution_count": 55,
   "metadata": {
    "collapsed": false
   },
   "outputs": [
    {
     "data": {
      "image/png": "[encoded data removed]",
      "text/plain": [
       "<matplotlib.figure.Figure at 0x7cbbbf0>"
      ]
     },
     "metadata": {},
     "output_type": "display_data"
    }
   ],
   "source": [
    "# TODO\n",
    "Ns = [2]\n",
    "num_runs = 1\n",
    "main(Ns, num_runs)"
   ]
  },
  {
   "cell_type": "markdown",
   "metadata": {},
   "source": [
    "Kế đến, để thấy được sự thay đổi của `E_in` và `E_out` khi `N` thay đổi, bạn hãy gọi hàm `main` ở trên với `Ns = [10, 20, 30, 40, 50]` và `num_runs = 100`. Cho nhận xét dựa trên đồ thị kết quả."
   ]
  },
  {
   "cell_type": "code",
   "execution_count": 56,
   "metadata": {
    "collapsed": false
   },
   "outputs": [
    {
     "data": {
      "image/png": "[encoded data removed]",
      "text/plain": [
       "<matplotlib.figure.Figure at 0x7ca4eb0>"
      ]
     },
     "metadata": {},
     "output_type": "display_data"
    }
   ],
   "source": [
    "# TODO\n",
    "Ns = [10, 20, 30, 40, 50]\n",
    "num_runs = 100\n",
    "main(Ns, num_runs)"
   ]
  },
  {
   "cell_type": "markdown",
   "metadata": {},
   "source": [
    "Khi số lần thử càng nhiều thì độ sai lệch giữa in và out càng nhỏ và ngày càng hội tụ lại tại một điểm"
   ]
  }
 ],
 "metadata": {
  "kernelspec": {
   "display_name": "Python 2",
   "language": "python",
   "name": "python2"
  },
  "language_info": {
   "codemirror_mode": {
    "name": "ipython",
    "version": 2
   },
   "file_extension": ".py",
   "mimetype": "text/x-python",
   "name": "python",
   "nbconvert_exporter": "python",
   "pygments_lexer": "ipython2",
   "version": "2.7.10"
  }
 },
 "nbformat": 4,
 "nbformat_minor": 0
}
