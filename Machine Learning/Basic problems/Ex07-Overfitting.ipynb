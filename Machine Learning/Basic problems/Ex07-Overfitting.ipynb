{
 "cells": [
  {
   "cell_type": "markdown",
   "metadata": {},
   "source": [
    "# BTTH07: Quá khớp (Overfitting)\n",
    "\n",
    "\n",
    "#Trần Tuấn Tú - 1312681\n",
    "---\n",
    "\n"
   ]
  },
  {
   "cell_type": "markdown",
   "metadata": {},
   "source": [
    "## 1. Cách làm bài và nộp bài\n",
    "\n",
    "**Làm bài**\n",
    "\n",
    "Bạn sẽ làm trực tiếp trên file notebook này; trong file, mình đã để từ `TODO` để cho biết những chỗ mà bạn cần phải làm (trong đó, `TODO` đầu tiên là bạn phải ghi họ tên và MSSV vào phần đầu của file). Trong khi làm bài, thường xuyên `Ctrl + S` để lưu lại bài làm của bạn, tránh mất mát thông tin.\n",
    "\n",
    "*Lưu ý: tuyệt đối không gian lận. Nếu vi phạm thì bạn sẽ bị 0 điểm cho cả phần thực hành môn học. Nên nhớ mục tiêu chính ở đây là học kiến thức.*\n",
    "\n",
    "**Nộp bài**\n",
    "\n",
    "Khi chấm bài, đầu tiên mình sẽ chọn `Cell` - `Run All` để chạy tất cả các cell trong notebook của bạn; do đó, trước khi nộp bài, bạn nên chạy thử `Cell` - `Run All` để đảm bảo mọi chuyện diễn ra đúng như mong đợi.\n",
    "\n",
    "Sau đó, trong thư mục `MSSV` (vd, nếu bạn có MSSV là 1234567 thì bạn đặt tên thư mục là `1234567`) bạn đặt file `Ex07-Overfitting.ipynb`; rồi nén thư mục `MSSV` này lại và nộp ở link trên moodle."
   ]
  },
  {
   "cell_type": "markdown",
   "metadata": {},
   "source": [
    "## 2. Import"
   ]
  },
  {
   "cell_type": "code",
   "execution_count": 562,
   "metadata": {
    "collapsed": false
   },
   "outputs": [],
   "source": [
    "%matplotlib inline\n",
    "import numpy as np\n",
    "import matplotlib.pyplot as plt\n",
    "import copy\n",
    "# You can also import other things ..."
   ]
  },
  {
   "cell_type": "markdown",
   "metadata": {},
   "source": [
    "## 3. Hàm phát sinh dữ liệu\n",
    "\n",
    "Trong bài tập này, bạn sẽ thử nghiệm Neural Net trên bộ dữ liệu tự tạo với không gian đầu vào $\\mathcal{X}$ là không gian một chiều (để có thể trực quan hóa được). Cách tạo bộ dữ liệu như sau:\n",
    "\n",
    "- Hàm đích (target function) của mình là: $f(x) = x$.\n",
    "- Mỗi input $x$ được phát sinh bằng cách lấy ngẫu nhiên một giá trị trong $[-1, 1]$ theo phân bố đều. Output $y$ tương ứng sẽ được phát sinh như sau: $y = f(x) + noise$ với $noise$ được phát sinh từ phân bố Gauss với mean bằng 0 và variance bằng $0.3^2$."
   ]
  },
  {
   "cell_type": "code",
   "execution_count": 563,
   "metadata": {
    "collapsed": false
   },
   "outputs": [],
   "source": [
    "def generate_data(N):\n",
    "    \"\"\"\n",
    "    Generates data.\n",
    "    \n",
    "    Parameters\n",
    "    ----------\n",
    "    N : int\n",
    "        The number of data points.\n",
    "    \n",
    "    Returns\n",
    "    -------\n",
    "    (X, Y) : tuple\n",
    "        X : numpy array, shape (N, 2)\n",
    "            The matrix of input vectors (each row corresponds to an input vector); the first column of \n",
    "            this matrix is all ones (corresponding to x_0).\n",
    "        Y : numpy array, shape (N, 1)\n",
    "            The vector of outputs.\n",
    "    \"\"\"\n",
    "    X = np.ones((N, 2))\n",
    "    for i in range(N):\n",
    "         X[i, 1] = np.random.uniform(-1,1)\n",
    "    Y = X[:, 1:2]\n",
    "    Y = Y + np.array([np.random.normal(0,0.3,N)]).T\n",
    "    return (X, Y)\n",
    "    # TODO"
   ]
  },
  {
   "cell_type": "markdown",
   "metadata": {},
   "source": [
    "Kế đến, bạn sẽ định nghĩa các hàm của Neural Net cho dữ liệu này. Các hàm này không có gì thay đổi so với tuần trước, ngoại trừ:\n",
    "\n",
    "- Do ta đang giải quyết bài toán hồi qui nên tầng Softmax sẽ được thay bằng tầng Linear Regression; và hàm chi phí Mean Negative Log Likelihood sẽ được thay bằng hàm Mean Squared Error.\n",
    "- Ở hàm `train_neural_net`, có bổ sung các tham số đầu vào và các kết quả trả về; cụ thể bạn đọc ở phần mô tả hàm bên dưới."
   ]
  },
  {
   "cell_type": "markdown",
   "metadata": {},
   "source": [
    "## 4. Hàm lan truyền tiến qua Neural Net\n",
    "\n",
    "Trong bài này, ta sẽ sử dụng nơ-ron sigmoid ở các tẩng ẩn, và tầng cuối là tầng Linear Regression (sử dụng hàm kích hoạt $\\theta(z)=z$)."
   ]
  },
  {
   "cell_type": "code",
   "execution_count": 564,
   "metadata": {
    "collapsed": true
   },
   "outputs": [],
   "source": [
    "def sigmoid(Z):\n",
    "    \"\"\"\n",
    "    Computes sigmoid function for each element of numpy array Z.\n",
    "    \"\"\"\n",
    "    return 1 / (1 + np.exp(-Z))\n",
    "\n",
    "def forward_prop(X, Ws):\n",
    "    \"\"\"\n",
    "    Forward propagates X through layers of neural nets to get the final outputs.\n",
    "    \n",
    "    Parameters\n",
    "    ----------\n",
    "    X : numpy array, shape (N, d+1)\n",
    "        The matrix of input vectors (each row corresponds to an input vector); the first column of \n",
    "        this matrix is all ones (corresponding to x_0).\n",
    "    Ws : list of numpy arrays\n",
    "        The list of each layer's W; W of layer l will have the shape of (d^(l-1)+1, d^(l)) where \n",
    "        d^(l-1) is the number of neurons (not count the +1 neuron) of layer l-1, and \n",
    "        d^(l) is the number of neurons (not count the +1 neuron) of layer l.\n",
    "    \n",
    "    Returns\n",
    "    -------\n",
    "    A : numpy array, shape (N, 1)\n",
    "        The vector of Neural Net's outputs.\n",
    "    \"\"\"\n",
    "    A = X\n",
    "    for i in range(len(Ws)):\n",
    "        Z = A.dot(Ws[i])\n",
    "        if i == len(Ws) - 1:\n",
    "            A = Z\n",
    "        else:\n",
    "            A = sigmoid(Z)\n",
    "            A = np.hstack((np.ones((A.shape[0],1)), A))\n",
    "    return A\n",
    "    # TODO"
   ]
  },
  {
   "cell_type": "markdown",
   "metadata": {},
   "source": [
    "## 5. Hàm huấn luyện Neural Net"
   ]
  },
  {
   "cell_type": "code",
   "execution_count": 565,
   "metadata": {
    "collapsed": false
   },
   "outputs": [],
   "source": [
    "def train_neural_net(X, Y, X_val, Y_val, layer_sizes, learning_rate, mnb_size, max_epoch):\n",
    "    \"\"\"\n",
    "    Trains Neural Net on the dataset (X, Y).\n",
    "    Cost function: Mean Squared Error (MSE).\n",
    "    Optimization algorithm: Stochastic Gradient Descent (SGD).\n",
    "    \n",
    "    Your code needs to print out the MSE on the training set and validation set (it's a data set \n",
    "    different from the training set and used to estimate E_out) after each 1000-epochs (in this \n",
    "    exercise, we are going to use a pretty big `max_epoch`; so, we'll not want to print after each\n",
    "    epoch).\n",
    "    (E.g., 'Epoch ..., training err ..., val err ...')\n",
    "    \n",
    "    Parameters\n",
    "    ----------\n",
    "    X : numpy array, shape (N, d + 1)\n",
    "        The matrix of input vectors (each row corresponds to an input vector) of the training set; \n",
    "        the first column of this matrix is all ones (corresponding to x_0).\n",
    "    Y : numpy array, shape (N, 1)\n",
    "        The vector of outputs of the training set.\n",
    "    X_val : numpy array, shape (N_val, d + 1)\n",
    "        The matrix of input vectors (each row corresponds to an input vector) of the validation set; \n",
    "        the first column of this matrix is all ones (corresponding to x_0).\n",
    "    Y_val : numpy array, shape (N_val, 1)\n",
    "        The vector of outputs of the validation set.  \n",
    "    layer_sizes : list of ints\n",
    "        The list of each layer' size (not count the +1 neurons).\n",
    "        E.g. layer_sizes = [784, 30, 10] means: the 1st layer (input layer) has 784 neurons,\n",
    "        the 2nd layer (hidden layer) has 30 neurons, the 3rd layer (output layer) has 10 neurons.\n",
    "    learning_rate : float\n",
    "        Learning rate of SGD.\n",
    "    mnb_size : int\n",
    "        Minibatch size of SGD.\n",
    "    max_epoch : int\n",
    "        After this number of epochs, we'll terminate SGD.\n",
    "    \n",
    "    Returns\n",
    "    -------\n",
    "    (best_Ws, Ws, E_ins, E_outs) : tuple\n",
    "        best_Ws : list of numpy arrays\n",
    "            The list of each layer's W; W of layer l will have the shape of (d^(l-1)+1, d^(l)) where \n",
    "            d^(l-1) is the number of neurons (not count the +1 neuron) of layer l-1, and \n",
    "            d^(l) is the number of neurons (not count the +1 neuron) of layer l.\n",
    "            It's the parameters having smallest error on the validation set.\n",
    "        Ws : list of numpy arrays\n",
    "            The list of each layer's W; W of layer l will have the shape of (d^(l-1)+1, d^(l)) where \n",
    "            d^(l-1) is the number of neurons (not count the +1 neuron) of layer l-1, and \n",
    "            d^(l) is the number of neurons (not count the +1 neuron) of layer l.\n",
    "            It's the parameters after `max_epoch` epochs.\n",
    "        E_ins: list of floats\n",
    "            List of E_in's (MSE on the training set) after each 1000-epochs; len(E_ins)=max_epoch/1000.\n",
    "        E_outs: list of floats\n",
    "            List of E_out's (MSE on the validation set) after each 1000-epochs; len(E_outs)=max_epoch/1000.\n",
    "    \"\"\"\n",
    "    # Init weights\n",
    "    Ws = [np.random.randn(layer_sizes[l]+1, layer_sizes[l+1]) / np.sqrt(layer_sizes[l]+1) for l in range(len(layer_sizes)-1)]\n",
    "    best_Ws_list = []\n",
    "    E_ins = []\n",
    "    E_outs = []\n",
    "    # TODO\n",
    "    N = X.shape[0]\n",
    "    rand_idxs = range(N)\n",
    "    #one_hot_Y = np.zeros((N,10))\n",
    "    #for i in range(N):\n",
    "    #    one_hot_Y[i][Y[i]] = 1\n",
    "    for epoch in range(max_epoch):\n",
    "        np.random.shuffle(rand_idxs)\n",
    "        for start_idx in range(0, N, mnb_size):\n",
    "            mnb_X = X[rand_idxs[start_idx:start_idx + mnb_size]]\n",
    "            mnb_Y = Y[rand_idxs[start_idx:start_idx + mnb_size]]\n",
    "            #forward prop\n",
    "            As = [mnb_X]\n",
    "            A = mnb_X\n",
    "            for i in range(len(Ws)):\n",
    "                Z = A.dot(Ws[i])\n",
    "                if i == len(Ws) - 1:\n",
    "                    A = Z\n",
    "                else:\n",
    "                    A = sigmoid(Z)\n",
    "                    A = np.hstack((np.ones((A.shape[0],1)), A))\n",
    "                As.append(A)\n",
    "            #back prop\n",
    "            delta = As[-1] - mnb_Y\n",
    "            grad = As[-2].T.dot(delta) / mnb_size\n",
    "            Ws[-1] -= learning_rate * grad\n",
    "            for l in range(2, len(layer_sizes)):\n",
    "                if (l >= 3):                \n",
    "                    delta = delta[:,1:].dot(Ws[-l+1].T) * As[-l] * (1 - As[-l]) #Trường hợp nhiều hơn 3 layer, bỏ đi cột đầu \n",
    "                else:\n",
    "                    delta = delta.dot(Ws[-l+1].T) * As[-l] * (1 - As[-l]) #Trường hợp từ 3 layer trở xuống\n",
    "                grad = As[-l-1].T.dot(delta[:, 1:]) / mnb_size    \n",
    "                Ws[-l] -= learning_rate * grad\n",
    "        if ((epoch + 1) % 1000 == 0):\n",
    "            A = forward_prop(X, Ws)\n",
    "            res = np.square(A - Y)\n",
    "            E_in = (np.sum(res, axis=0))/(X.shape[0])\n",
    "            E_ins.append(E_in)\n",
    "    \n",
    "            B = forward_prop(X_val, Ws)\n",
    "            res = np.square(B - Y_val)\n",
    "            E_out = (np.sum(res, axis=0))/(X_val.shape[0])\n",
    "            E_outs.append(E_out)\n",
    "            best_Ws_list.append(copy.deepcopy(Ws))\n",
    "    \n",
    "    best_Ws  = best_Ws_list[np.argmin(E_outs)]\n",
    "    return (best_Ws, Ws, E_ins, E_outs)"
   ]
  },
  {
   "cell_type": "code",
   "execution_count": null,
   "metadata": {
    "collapsed": true
   },
   "outputs": [],
   "source": []
  },
  {
   "cell_type": "markdown",
   "metadata": {},
   "source": [
    "## 6. Chạy\n",
    "\n",
    "Bây giờ, bạn sẽ dùng các hàm đã định nghĩa ở trên như sau:\n",
    "\n",
    "1. Phát sinh ra tập huấn luyện gồm 5 điểm dữ liệu, và tập validation gồm 1000 điểm dữ liệu.\n",
    "2. Huấn luyện Neural Net với `layer_sizes = [1, 10, 1]`. Chạy SGD với `learning_rate = 0.1`, `mnb_size = 5`, và `max_epoch = 50000`.\n",
    "3. Vẽ hai đồ thị:\n",
    "\n",
    "    - Đồ thị 1: trục hoành là số lượng epoch, trục tung là độ lỗi; trên đồ thị này, vẽ ra hai đường ứng với E_in (độ lỗi trên tập train) và E_out (độ lỗi trên tập validation) sau mỗi 1000-epoch.\n",
    "    - Đồ thị 2: trục hoành là input x, trục tung là output y; trên đồ thị này, vẽ ra: đường đích $y = x$, các điểm dữ liệu của tập huấn luyện, hai đường hồi qui ứng với `best_Ws` và `Ws`. "
   ]
  },
  {
   "cell_type": "code",
   "execution_count": 566,
   "metadata": {
    "collapsed": false
   },
   "outputs": [
    {
     "data": {
      "image/png": "[encoded data removed]",
      "text/plain": [
       "<matplotlib.figure.Figure at 0xb566890>"
      ]
     },
     "metadata": {},
     "output_type": "display_data"
    },
    {
     "data": {
      "image/png": "[encoded data removed]",
      "text/plain": [
       "<matplotlib.figure.Figure at 0xbaaab50>"
      ]
     },
     "metadata": {},
     "output_type": "display_data"
    }
   ],
   "source": [
    "# TODO\n",
    "X, Y = generate_data(5)\n",
    "X_val, Y_val = generate_data(1000)\n",
    "layer_sizes = [1, 10, 1]\n",
    "best_Ws, Ws, E_ins, E_outs = train_neural_net(X, Y, X_val, Y_val, layer_sizes, 0.1, 5, 50000)\n",
    "\n",
    "NumEpochs = []\n",
    "for i in range(50):\n",
    "    NumEpochs.append(i * 1000)\n",
    "plt.plot(NumEpochs, E_ins, label = 'E_in')\n",
    "plt.plot(NumEpochs, E_outs, label = 'E_out', color = 'g')\n",
    "plt.legend()\n",
    "#plt.show()\n",
    "\n",
    "plt.figure(2)\n",
    "plt.plot(X.T[1], Y.T[0], 'ro', label = 'Train Points')\n",
    "X = np.ones((20, 2))\n",
    "X[:, 1] = np.arange(-1, 1, 0.1)\n",
    "B = forward_prop(X, Ws)\n",
    "A = forward_prop(X, best_Ws)\n",
    "plt.plot(X[:,1], A, label = 'best_Ws', color = 'y')\n",
    "plt.plot(X[:,1], B, label = 'Ws', color = 'r')\n",
    "plt.plot([1,-1], [1,-1], label = 'y = x')\n",
    "plt.legend()\n",
    "plt.show()"
   ]
  },
  {
   "cell_type": "markdown",
   "metadata": {},
   "source": [
    "Khi epoch quá lớn, sẽ dẫn đến tình trạng quá khớp và sau đó kết quả thử trên tập Validate sẽ ngày càng sai lệch. Ban đầu, cả hai độ lỗi E_in (trên tập train) và E_out (trên tập validate) giảm, nhưng khi max_epoch quá lớn, độ lỗi E_out trên tập Validate sẽ tăng dần, độ lỗi E_in trên tập train sẽ giảm dần. Ta gọi đó là hiện tượng Overfitting (Quá khớp) trong Machine Learning, hiện tượng Overfitting diễn ra khi mô hình học bắt đầu \"Ghi nhớ\" tập train thay vì \"Học\" từ tập train. Kể từ đó, khi kết quả học được áp dụng lên tập train thì rất chính xác nhưng với dữ liệu ẩn nằm ngoài tập train, kết quả sẽ không còn chính xác và không hiệu quả. Vì thế ta cần có một điểm dừng hợp lí."
   ]
  }
 ],
 "metadata": {
  "kernelspec": {
   "display_name": "Python 2",
   "language": "python",
   "name": "python2"
  },
  "language_info": {
   "codemirror_mode": {
    "name": "ipython",
    "version": 2
   },
   "file_extension": ".py",
   "mimetype": "text/x-python",
   "name": "python",
   "nbconvert_exporter": "python",
   "pygments_lexer": "ipython2",
   "version": "2.7.10"
  }
 },
 "nbformat": 4,
 "nbformat_minor": 0
}
