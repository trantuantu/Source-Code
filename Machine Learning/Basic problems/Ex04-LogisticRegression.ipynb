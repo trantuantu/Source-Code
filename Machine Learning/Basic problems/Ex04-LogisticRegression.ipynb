{
 "cells": [
  {
   "cell_type": "markdown",
   "metadata": {},
   "source": [
    "# BTTH04: Logistic Regression\n",
    "\n",
    "Trần Tuấn Tú - 1312681\n",
    "\n",
    "---\n",
    "\n"
   ]
  },
  {
   "cell_type": "markdown",
   "metadata": {},
   "source": [
    "## 1. Cách làm bài và nộp bài\n",
    "\n",
    "**Làm bài**\n",
    "\n",
    "Bạn sẽ làm trực tiếp trên file notebook này; trong file, mình đã để từ `TODO` để cho biết những chỗ mà bạn cần phải làm (trong đó, `TODO` đầu tiên là bạn phải ghi họ tên và MSSV vào phần đầu của file). Trong khi làm bài, thường xuyên `Ctrl + S` để lưu lại bài làm của bạn, tránh mất mát thông tin.\n",
    "\n",
    "*Lưu ý: tuyệt đối không gian lận. Nếu vi phạm thì bạn sẽ bị 0 điểm cho cả phần thực hành môn học. Nên nhớ mục tiêu chính ở đây là học kiến thức.*\n",
    "\n",
    "**Nộp bài**\n",
    "\n",
    "Khi chấm bài, đầu tiên mình sẽ chọn `Cell` - `Run All` để chạy tất cả các cell trong notebook của bạn; do đó, trước khi nộp bài, bạn nên chạy thử `Cell` - `Run All` để đảm bảo mọi chuyện diễn ra đúng như mong đợi.\n",
    "\n",
    "Sau đó, trong thư mục `MSSV` (vd, nếu bạn có MSSV là 1234567 thì bạn đặt tên thư mục là `1234567`) bạn đặt file `Ex04-LogisticRegression.ipynb`; rồi nén thư mục `MSSV` này lại và nộp ở link trên moodle."
   ]
  },
  {
   "cell_type": "markdown",
   "metadata": {},
   "source": [
    "## 2. Import"
   ]
  },
  {
   "cell_type": "code",
   "execution_count": 1,
   "metadata": {
    "collapsed": false
   },
   "outputs": [],
   "source": [
    "%matplotlib inline\n",
    "import numpy as np\n",
    "import matplotlib.pyplot as plt\n",
    "# You can also import other things ..."
   ]
  },
  {
   "cell_type": "markdown",
   "metadata": {},
   "source": [
    "## 3. Hàm phát sinh dữ liệu"
   ]
  },
  {
   "cell_type": "markdown",
   "metadata": {},
   "source": [
    "Trong bài tập này, bạn sẽ thử nghiệm Logistic Regression trên bộ dữ liệu tự tạo với không gian đầu vào $\\mathcal{X}=[-1,1]\\times[-1,1]$ (để có thể trực quan hóa được). Cách tạo bộ dữ liệu như sau:\n",
    "\n",
    "- Đường phân lớp đích của mình trong không gian $\\mathcal{X}$ là: $x_1 - x_2 = 0$. Đường phân lớp này sẽ chia không gian $\\mathcal{X}$ làm hai vùng: vùng dương ứng với lớp $+1$ ($x_1 - x_2 > 0$) và vùng âm ứng với lớp $-1$ ($x_1 - x_2 < 0$).\n",
    "- Mỗi input $x$ được phát sinh bằng cách lấy ngẫu nhiên một điểm trong không gian $\\mathcal{X}=[-1,1]\\times[-1,1]$ theo phân bố đều. Output $y$ tương ứng sẽ có giá trị là $-1$ nếu $x$ nằm ở vùng âm của đường phân lớp đích $x_1 - x_2 = 0$, và $+1$ nếu ngược lại; sau đó, phát sinh nhiễu bằng cách đổi dấu của output $y$ với xác xuất 0.1."
   ]
  },
  {
   "cell_type": "code",
   "execution_count": 2,
   "metadata": {
    "collapsed": false
   },
   "outputs": [],
   "source": [
    "def sign(x):\n",
    "    \"\"\"\n",
    "    Get sign of x. You can use this function in functions belows.\n",
    "    \n",
    "    Parameters\n",
    "    ----------\n",
    "    x : numpy array\n",
    "    \n",
    "    Returns\n",
    "    -------\n",
    "    s : numpy array, shape = shape of x\n",
    "        Signs of elements of x. If a element of x < 0, its sign is -1; otherwise, its sign is 1.\n",
    "    \"\"\"\n",
    "    s = np.ones(x.shape)\n",
    "    s[x < 0] = -1\n",
    "    return s\n",
    "\n",
    "def generate_data(N):\n",
    "    \"\"\"\n",
    "    Generates a data set.\n",
    "    \n",
    "    Parameters\n",
    "    ----------\n",
    "    N : int\n",
    "        The number of examples.\n",
    "    \n",
    "    Returns\n",
    "    -------\n",
    "    (X, Y) : tuple\n",
    "        X : numpy array, shape (N, 3)\n",
    "            The matrix of input vectors (each row corresponds to an input vector); the first column of \n",
    "            this matrix is all ones (corresponding to x_0 = 1).\n",
    "        Y : numpy array, shape (N, 1)\n",
    "            The vector of outputs.        \n",
    "    \"\"\"\n",
    "    # TODO\n",
    "    X = np.ones((N, 3))\n",
    "    i = 0\n",
    "    for i in range(N):\n",
    "        X[i, 1] = np.random.uniform(-1,1)\n",
    "        X[i, 2] = np.random.uniform(-1,1)\n",
    "    Y = np.zeros((N, 1))\n",
    "    \n",
    "    for i in range(N):\n",
    "        if (sign(X[i][2] - X[i][1]) == -1):\n",
    "            Y[i] = -1\n",
    "        else:\n",
    "            if (sign(X[i][2] - X[i][1]) == 1):\n",
    "                Y[i] = 1\n",
    "    \n",
    "    for i in range(N):\n",
    "        if (np.random.randint(1,11) == 1):\n",
    "            Y[i] = -Y[i]\n",
    "            i = i + 1\n",
    "    \n",
    "    return (X,Y)"
   ]
  },
  {
   "cell_type": "markdown",
   "metadata": {},
   "source": [
    "## 4. Hàm huấn luyện Logistic Regression"
   ]
  },
  {
   "cell_type": "code",
   "execution_count": 3,
   "metadata": {
    "collapsed": false
   },
   "outputs": [],
   "source": [
    "def train_logistic_regression(X, Y, learning_rate, max_epoch):\n",
    "    \"\"\"\n",
    "    Trains Logistic Regression on the dataset (X, Y).\n",
    "    Cost function: mean negative log likelihood (it's the one I talked in the class).\n",
    "    Optimization algorithm: Gradient Descent.\n",
    "    \n",
    "    Parameters\n",
    "    ----------\n",
    "    X : numpy array, shape (N, d + 1)\n",
    "        The matrix of input vectors (each row corresponds to an input vector); the first column of \n",
    "        this matrix is all ones (corresponding to x_0).\n",
    "    Y : numpy array, shape (N, 1)\n",
    "        The vector of outputs.\n",
    "    learning_rate : float\n",
    "        The learning rate of Gradient Descent.\n",
    "    max_epoch : int\n",
    "        After this number of epochs (iterations), we'll terminate Gradient Descent.\n",
    "    \n",
    "    Returns\n",
    "    -------\n",
    "    (W, costs): tuple\n",
    "        W : numpy array, shape (d + 1, 1)\n",
    "            The vector of parameters of Logistic Regression after training.\n",
    "        costs: list, len = max_epoch\n",
    "            The list of cost values after each epoch.          \n",
    "    \"\"\"\n",
    "    # TODO\n",
    "    W = np.ones((X.shape[1], 1))\n",
    "    #Random mang phi\n",
    "    for i in range(X.shape[1]):\n",
    "        #if (i > 0):\n",
    "        W[i][0] = np.random.uniform(-2, 2)\n",
    "    costs = np.zeros(max_epoch)\n",
    "    costVal = 0\n",
    "    for i in range(max_epoch): #Cho hoi quy epoch lan  \n",
    "        #Tinh hypothesis\n",
    "        J = (-Y * X) / (1 + 1 / np.exp(-Y * np.dot(X , W)))\n",
    "        costVal = np.log(np.exp(-Y * np.dot(X , W)) + 1)\n",
    "        \n",
    "        sumJ = np.sum(J, axis = 0)\n",
    "        sumCost = np.sum(costVal, axis = 0)\n",
    "        \n",
    "        sumJ = sumJ / X.shape[0]\n",
    "        sumCost = sumCost / X.shape[0]\n",
    "        \n",
    "        sumJ = np.reshape(sumJ, (X.shape[1], 1))\n",
    "        costs[i] = sumCost\n",
    "        \n",
    "        W = W - learning_rate * sumJ\n",
    "    \n",
    "    return (W, costs)"
   ]
  },
  {
   "cell_type": "markdown",
   "metadata": {},
   "source": [
    "## 5. Hàm tính độ lỗi của Logistic Regression"
   ]
  },
  {
   "cell_type": "code",
   "execution_count": 4,
   "metadata": {
    "collapsed": false
   },
   "outputs": [],
   "source": [
    "def compute_err(W, X, Y):\n",
    "    \"\"\"\n",
    "    Computes the mean binary error of W on the dataset (X, Y).\n",
    "    \n",
    "    Parameters\n",
    "    ----------\n",
    "    W : numpy array, shape (d + 1, 1)\n",
    "        The vector of parameters of Logistic Regression.\n",
    "    X : numpy array, shape (N, d + 1)\n",
    "        The matrix of input vectors (each row corresponds to an input vector); the first column of \n",
    "        this matrix is all ones (corresponding to x_0 = 1).\n",
    "    Y : numpy array, shape (N, 1)\n",
    "        The vector of outputs.\n",
    "    \n",
    "    Returns\n",
    "    -------\n",
    "    mbe : float\n",
    "        Mean binary error (in [0, 1]) between predicted outputs and correct outputs.\n",
    "    \"\"\"\n",
    "    # TODO\n",
    "    mbe = 0\n",
    "    for i in range (Y.shape[0]):\n",
    "        hypo = 1 / (1 + np.exp(np.dot(-W.T, X[i].T)))\n",
    "        mbe = mbe + (hypo - Y[i]) ** 2\n",
    "    return mbe / Y.shape[0]\n",
    "    "
   ]
  },
  {
   "cell_type": "markdown",
   "metadata": {},
   "source": [
    "## 6. Thí nghiệm 1: ảnh hưởng của hệ số học"
   ]
  },
  {
   "cell_type": "markdown",
   "metadata": {},
   "source": [
    "Để thấy được ảnh hưởng của hệ số học (learning rate) lên quá trình học của Logistic Regression, bạn sẽ viết một đoạn code để thử nghiệm với các hệ số học 0.1, 1, 10, 100: đầu tiên, bạn sẽ phát sinh ra một tập huấn luyện gồm 50 mẫu huấn luyện; kế đến, bạn sẽ huấn luyện Logistic Regression với các hệ số học khác nhau (cho `max_epoch` = 100), và vẽ ra đồ thị để cho thấy sự thay đổi của giá trị hàm chi phí sau mỗi epoch (mỗi vòng lặp) trong quá trình học ứng với từng giá trị của hệ số học (bạn sẽ vẽ một đồ thị có 4 đường ứng với 4 hệ số học, trong đó trục hoành là số lượng epoch, trục tung là giá trị của hàm chi phí; để dễ nhìn, bạn có thể cho trục tung là log cơ số e của giá trị hàm chi phí)."
   ]
  },
  {
   "cell_type": "code",
   "execution_count": 5,
   "metadata": {
    "collapsed": false
   },
   "outputs": [
    {
     "data": {
      "image/png": "[encoded data removed]",
      "text/plain": [
       "<matplotlib.figure.Figure at 0x2b6aef0>"
      ]
     },
     "metadata": {},
     "output_type": "display_data"
    }
   ],
   "source": [
    "X, Y = generate_data(50) \n",
    "N = np.arange(1,101)\n",
    "\n",
    "\n",
    "W, costs1 = train_logistic_regression(X, Y, 0.1, 100)\n",
    "W, costs2 = train_logistic_regression(X, Y, 1, 100)\n",
    "W, costs3 = train_logistic_regression(X, Y, 10, 100)\n",
    "W, costs4 = train_logistic_regression(X, Y, 100, 100)\n",
    "plt.plot(N, costs1, label = '0.1', color = 'r')\n",
    "plt.plot(N, costs2, label = '1', color = 'g')\n",
    "plt.plot(N, costs3, label = '10', color = 'b')\n",
    "plt.plot(N, costs4, label = '100', color = 'y')\n",
    "plt.legend()\n",
    "plt.show()\n"
   ]
  },
  {
   "cell_type": "markdown",
   "metadata": {},
   "source": [
    "Tốc độ học Learning rate ảnh hưởng lớn đến quá trình hội tụ của Gradient Descent.\n",
    "Để quá trình hội tụ nhanh, giá trị của hệ số học không được quá lớn, cũng không được quá nhỏ.\n",
    "Nếu giá trị Learning rate quá lớn thì \"Bước nhảy\" hội tụ sẽ lớn, nhảy qua cả điểm cực tiểu khiến quá trình hội tụ lâu, độ chính xác thấp (nhưng đôi khi nhảy đến gần điểm cực tiểu thì sẽ chính xác hơn, điều này sẽ lặp lại theo chu kì). Ngược lại Learning rate quá nhỏ thì \"Bước nhảy\" quá nhỏ, dẫn đến quá trình hội tụ chậm, nhưng sẽ quá trình hội tụ sẽ đến sát điểm cực tiểu hơn, độ chính xác cao."
   ]
  },
  {
   "cell_type": "markdown",
   "metadata": {},
   "source": [
    "## 7. Thí nghiệm 2: ảnh hưởng của kích thước tập huấn luyện\n",
    "\n",
    "Đầu tiên, bạn sẽ viết hàm `experiment_N`; hàm này có hai tham số đầu vào:\n",
    "\n",
    "- `Ns` (list): gồm các kích thước của tập huấn luyện mà mình sẽ thí nghiệm.\n",
    "- `num_runs` (int): số lần chạy với mỗi kích thước của tập huấn luyện.\n",
    "\n",
    "Trong hàm `experiment_N`, với mỗi kích thước `N` của tập huấn luyện, ta sẽ chạy `num_runs` lần, trong đó ở mỗi lần chạy:\n",
    "\n",
    "- Phát sinh ra tập huấn luyện gồm `N` điểm dữ liệu.\n",
    "- Huấn luyện Logistic Regression để tìm ra bộ tham số `W`.\n",
    "- Tính độ lỗi trên tập huấn luyện `E_in`.\n",
    "- Phát sinh ra tập kiểm tra (test set) gồm 1000 điểm dữ liệu.\n",
    "- Tính độ lỗi trên tập kiểm tra `E_out`.\n",
    "\n",
    "Ta sẽ tính giá trị trung bình của `E_in` và `E_out` sau `num_runs` lần chạy.\n",
    "\n",
    "Trong hàm `experiment_N`, bạn sẽ bổ sung các phần sau:\n",
    "\n",
    "- Nếu `len(Ns) = 1` và `num_runs = 1` thì bạn sẽ vẽ ra đồ thị có trục hoành là $x_1$ và trục tung là $x_2$; trên đồ thị này, bạn sẽ vẽ ra đường thẳng $x_1 - x_2 = 0$ ứng với đường phân lớp đích, các điểm dữ liệu của tập huấn luyện, và đường phân lớp học được của Logistic Regression.\n",
    "- Nếu `len(Ns) > 1` thì bạn sẽ vẽ ra đồ thị có trục hoành là kích thước `N` của tập huấn luyện và trục tung là độ lỗi; trên đồ thị này, bạn sẽ vẽ ra hai đường ứng với `E_in` và `E_out` (các giá trị trung bình sau `num_runs` lần chạy) để cho thấy sự thay đổi của `E_in` và `E_out` khi `N` thay đổi."
   ]
  },
  {
   "cell_type": "code",
   "execution_count": 6,
   "metadata": {
    "collapsed": false
   },
   "outputs": [],
   "source": [
    "def experiment_N(Ns, num_runs):\n",
    "    \"\"\"\n",
    "    Parameters\n",
    "    ----------\n",
    "    Ns : list\n",
    "        List of training set's sizes.\n",
    "    num_runs: int\n",
    "        The number of runs.\n",
    "    \"\"\"\n",
    "    \n",
    "    avg_E_in_list = [] # The list of average E_in's (each average E_in corresponds to a training set's size)\n",
    "    avg_E_out_list = [] # The list of average E_out's\n",
    "    \n",
    "    for N in Ns:\n",
    "        avg_E_in = 0.0\n",
    "        avg_E_out = 0.0\n",
    "        for r in range(num_runs):\n",
    "            # Generate a training set\n",
    "            X, Y = generate_data(N)\n",
    "            \n",
    "            # Train Logistic Regression, learning_rate = 10, max_epoch = 100\n",
    "            W, _ = train_logistic_regression(X, Y, 10, 100)\n",
    "            Col =  Y.reshape((N, ))\n",
    "            # Compute E_in and update average E_in\n",
    "            E_in = compute_err(W, X, Y)\n",
    "            avg_E_in += E_in / num_runs\n",
    "            \n",
    "            # Visualize the target line, the training data points, and the line of Logistic Regression\n",
    "            # TODO: if len(Ns) == 1 and num_runs == 1:\n",
    "            if (len(Ns) == 1 and num_runs == 1):\n",
    "                plt.plot([-1, 1], [-1, 1], label = 'x1 - x2 = 0')\n",
    "                plt.plot(X.T[1][Col < 0], X.T[2][Col < 0], 'ro')\n",
    "                plt.plot(X.T[1][Col > 0], X.T[2][Col > 0], 'bo')\n",
    "                plt.plot([-1, 1], [(-W[0] + W[1]) / W[2], (-W[0] - W[1]) / W[2]], label = 'Logistic Regesstion')\n",
    "                plt.legend()\n",
    "                plt.show()       \n",
    "            # Generate a test set\n",
    "            X_test, Y_test = generate_data(1000)\n",
    "            \n",
    "            # Compute E_out and update average E_out\n",
    "            E_out = compute_err(W, X_test, Y_test)\n",
    "            avg_E_out += E_out / num_runs\n",
    "            \n",
    "        avg_E_in_list.append(avg_E_in)\n",
    "        avg_E_out_list.append(avg_E_out)\n",
    "    \n",
    "    # Visualize how avg_E_in and avg_E_out vary when N varies    \n",
    "    # TODO: if len(Ns) > 1:\n",
    "    if len(Ns) > 1:\n",
    "        plt.plot(Ns, avg_E_in_list, label = 'E_in')\n",
    "        plt.plot(Ns, avg_E_out_list, label = 'E_out', color = 'g')\n",
    "        plt.legend()\n",
    "        plt.show()"
   ]
  },
  {
   "cell_type": "markdown",
   "metadata": {},
   "source": [
    "Để kiểm tra một cách trực quan đường phân lớp học được của Logistic Regression, bạn hãy gọi hàm `experiment_N` ở trên với `Ns = [50]` và `num_runs = 1`."
   ]
  },
  {
   "cell_type": "code",
   "execution_count": 7,
   "metadata": {
    "collapsed": false
   },
   "outputs": [
    {
     "data": {
      "image/png": "[encoded data removed]",
      "text/plain": [
       "<matplotlib.figure.Figure at 0x2b6ae90>"
      ]
     },
     "metadata": {},
     "output_type": "display_data"
    }
   ],
   "source": [
    "# TODO\n",
    "Ns = [50]\n",
    "num_runs = 1\n",
    "experiment_N(Ns, num_runs)"
   ]
  },
  {
   "cell_type": "markdown",
   "metadata": {},
   "source": [
    "Kế đến, để thấy được sự thay đổi của `E_in` và `E_out` khi `N` thay đổi, bạn hãy gọi hàm `experiment_N` ở trên với `Ns = [10, 20, 30, 40, 50]` và `num_runs = 100`. "
   ]
  },
  {
   "cell_type": "code",
   "execution_count": 8,
   "metadata": {
    "collapsed": false
   },
   "outputs": [
    {
     "data": {
      "image/png": "[encoded data removed]",
      "text/plain": [
       "<matplotlib.figure.Figure at 0x5402a10>"
      ]
     },
     "metadata": {},
     "output_type": "display_data"
    }
   ],
   "source": [
    "# TODO\n",
    "Ns = [10, 20, 30, 40, 50]\n",
    "num_runs = 100\n",
    "experiment_N(Ns, num_runs)"
   ]
  },
  {
   "cell_type": "markdown",
   "metadata": {},
   "source": [
    "Số lượng phần tử tập huấn luyện càng nhiều thì độ lỗi E_out càng thấp, chứng tỏ, khi ta train càng nhiều phần tử, thì quá trình học sẽ chính xác hơn nhiều.\n",
    "E_in cũng như vậy, ban đầu khi train càng ít phần tử thì độ lỗi càng thấp, train càng nhiều thì độ lỗi càng cao, nhưng tới một mức độ phần tử đủ nhiều, quá trình học đủ tốt, nắm bắt được đủ trường hợp hơn thì càng về sau, độ lỗi sẽ dần ổn định và giảm dần."
   ]
  }
 ],
 "metadata": {
  "kernelspec": {
   "display_name": "Python 2",
   "language": "python",
   "name": "python2"
  },
  "language_info": {
   "codemirror_mode": {
    "name": "ipython",
    "version": 2
   },
   "file_extension": ".py",
   "mimetype": "text/x-python",
   "name": "python",
   "nbconvert_exporter": "python",
   "pygments_lexer": "ipython2",
   "version": "2.7.10"
  }
 },
 "nbformat": 4,
 "nbformat_minor": 0
}
